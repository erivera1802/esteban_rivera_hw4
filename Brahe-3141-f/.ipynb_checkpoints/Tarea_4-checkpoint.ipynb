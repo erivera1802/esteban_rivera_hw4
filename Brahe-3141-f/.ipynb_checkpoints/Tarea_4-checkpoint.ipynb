{
 "metadata": {
  "name": ""
 },
 "nbformat": 3,
 "nbformat_minor": 0,
 "worksheets": [
  {
   "cells": [
    {
     "cell_type": "code",
     "collapsed": false,
     "input": [
      "from subprocess import call\n",
      "import glob\n",
      "import re\n",
      "Exps=glob.glob(\"*.dat\")\n",
      "#for i in range(1000):\n",
      " #   a=Exps[i]\n",
      "  #  theta_phi = re.findall(r'\\d+.\\d+',a)\n",
      "   # Th.append(theta_phi)\n",
      "f = open('Experimentos.dat', 'w')\n",
      "for i in range(1000):\n",
      "    #a=Exps(i)\n",
      "    f.write(Exps[i])\n",
      "    f.write(\"\\n\")\n",
      "f.close()\n",
      "theta_phi[];\n",
      "f2=open('Theta_Phi.dat','w')\n",
      "for i in range(1000):\n",
      "    a=Exps[i]\n",
      "    theta_phi[i] = map(float,re.findall(r'\\d+.\\d+',a))\n",
      "    #a=theta[0]\n",
      "    f2.write(str(theta_phi[i]))\n",
      "    f2.write(\"\\n\")\n",
      "f2.close()\n",
      "print theta_phi\n",
      "theta_phi[1]"
     ],
     "language": "python",
     "metadata": {},
     "outputs": [
      {
       "ename": "SyntaxError",
       "evalue": "invalid syntax (<ipython-input-106-e50a17ebcfd6>, line 15)",
       "output_type": "pyerr",
       "traceback": [
        "\u001b[1;36m  File \u001b[1;32m\"<ipython-input-106-e50a17ebcfd6>\"\u001b[1;36m, line \u001b[1;32m15\u001b[0m\n\u001b[1;33m    theta_phi[];\u001b[0m\n\u001b[1;37m              ^\u001b[0m\n\u001b[1;31mSyntaxError\u001b[0m\u001b[1;31m:\u001b[0m invalid syntax\n"
       ]
      }
     ],
     "prompt_number": 106
    },
    {
     "cell_type": "code",
     "collapsed": false,
     "input": [
      "from subprocess import call\n",
      "import glob\n",
      "import re\n",
      "f2=open('Theta_Phi.dat','w')\n",
      "Exps=glob.glob(\"*.dat\")\n",
      "for i in range(1000):\n",
      "    temp=Exps[i].replace('\\n','')\n",
      "    temp=Exps[i].replace('experiment_theta_','')\n",
      "    temp=temp.replace('.dat','')\n",
      "    temp=temp.replace('_phi','')\n",
      "    temp=temp.replace('_','\\t')\n",
      "    \n",
      "    \n",
      "    f2.write(temp)\n",
      "    f2.write(\"\\n\")\n",
      "print temp"
     ],
     "language": "python",
     "metadata": {},
     "outputs": [
      {
       "output_type": "stream",
       "stream": "stdout",
       "text": [
        "18.1\t145.3\n"
       ]
      }
     ],
     "prompt_number": 129
    },
    {
     "cell_type": "code",
     "collapsed": false,
     "input": [
      "len(\"Theta_phi.dat\")"
     ],
     "language": "python",
     "metadata": {},
     "outputs": [
      {
       "metadata": {},
       "output_type": "pyout",
       "prompt_number": 133,
       "text": [
        "13"
       ]
      }
     ],
     "prompt_number": 133
    },
    {
     "cell_type": "code",
     "collapsed": false,
     "input": [],
     "language": "python",
     "metadata": {},
     "outputs": []
    }
   ],
   "metadata": {}
  }
 ]
}