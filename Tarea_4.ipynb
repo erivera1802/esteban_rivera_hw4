{
 "metadata": {
  "name": ""
 },
 "nbformat": 3,
 "nbformat_minor": 0,
 "worksheets": [
  {
   "cells": [
    {
     "cell_type": "code",
     "collapsed": false,
     "input": [
      "from subprocess import call\n",
      "import glob\n",
      "import re\n",
      "Exps=glob.glob(\"*.dat\")\n",
      "#for i in range(1000):\n",
      " #   a=Exps[i]\n",
      "  #  theta_phi = re.findall(r'\\d+.\\d+',a)\n",
      "   # Th.append(theta_phi)\n",
      "f = open('Experimentos.dat', 'w')\n",
      "for i in range(1000):\n",
      "    #a=Exps(i)\n",
      "    f.write(Exps[i])\n",
      "    f.write(\"\\n\")\n",
      "f.close()\n",
      "theta_phi[];\n",
      "f2=open('Theta_Phi.dat','w')\n",
      "for i in range(1000):\n",
      "    a=Exps[i]\n",
      "    theta_phi[i] = map(float,re.findall(r'\\d+.\\d+',a))\n",
      "    #a=theta[0]\n",
      "    f2.write(str(theta_phi[i]))\n",
      "    f2.write(\"\\n\")\n",
      "f2.close()\n",
      "print theta_phi\n",
      "theta_phi[1]"
     ],
     "language": "python",
     "metadata": {},
     "outputs": [
      {
       "ename": "SyntaxError",
       "evalue": "invalid syntax (<ipython-input-106-e50a17ebcfd6>, line 15)",
       "output_type": "pyerr",
       "traceback": [
        "\u001b[1;36m  File \u001b[1;32m\"<ipython-input-106-e50a17ebcfd6>\"\u001b[1;36m, line \u001b[1;32m15\u001b[0m\n\u001b[1;33m    theta_phi[];\u001b[0m\n\u001b[1;37m              ^\u001b[0m\n\u001b[1;31mSyntaxError\u001b[0m\u001b[1;31m:\u001b[0m invalid syntax\n"
       ]
      }
     ],
     "prompt_number": 106
    },
    {
     "cell_type": "code",
     "collapsed": false,
     "input": [
      "%pylab inline\n",
      "from subprocess import call\n",
      "import glob\n",
      "import re\n",
      "import numpy as np\n",
      "f1=open('Nombres.dat','w')\n",
      "Exps1=glob.glob(\"experiment_theta*\")\n",
      "for i in range(1000):\n",
      "    temp=Exps1[i]\n",
      "    f1.write(temp)\n",
      "    f1.write(\"\\n\")\n",
      "f1.close()\n",
      "\n",
      "    \n",
      "    \n",
      "f2=open('Theta_Phi.dat','w')\n",
      "Exps=glob.glob(\"experiment_theta*\")\n",
      "for i in range(1000):\n",
      "    temp=Exps[i].replace('\\n','')\n",
      "    temp=Exps[i].replace('experiment_theta_','')\n",
      "    temp=temp.replace('.dat','')\n",
      "    temp=temp.replace('_phi','')\n",
      "    temp=temp.replace('_',' ')\n",
      "    f2.write(temp)\n",
      "    f2.write(\"\\n\")\n",
      "f2.close()\n",
      "!./a.out experiment_theta_30.5_phi_222.1.dat"
     ],
     "language": "python",
     "metadata": {},
     "outputs": [
      {
       "output_type": "stream",
       "stream": "stdout",
       "text": [
        "Populating the interactive namespace from numpy and matplotlib\n",
        "M\r\n",
        "1.077368\r\n",
        "22.323004\r\n",
        "-9.297353\r\n"
       ]
      }
     ],
     "prompt_number": 28
    },
    {
     "cell_type": "code",
     "collapsed": false,
     "input": [
      "for i in range(1000):\n",
      "    call([\"./a.out\",Exps[i]])\n"
     ],
     "language": "python",
     "metadata": {},
     "outputs": [],
     "prompt_number": 39
    },
    {
     "cell_type": "code",
     "collapsed": false,
     "input": [
      "import math\n",
      "m = 1000\n",
      "data = np.loadtxt('punto1.dat')\n",
      "datath=np.loadtxt('Theta_Phi.dat')\n",
      "theta = [ datath[i][0] for i in range(m)]\n",
      "g = [ data[i][2] for i in range(m)]\n",
      "plt.scatter(theta,g)\n",
      "\n"
     ],
     "language": "python",
     "metadata": {},
     "outputs": [
      {
       "metadata": {},
       "output_type": "pyout",
       "prompt_number": 55,
       "text": [
        "<matplotlib.collections.PathCollection at 0x4290a90>"
       ]
      },
      {
       "metadata": {},
       "output_type": "display_data",
       "png": "[encoded data removed]",
       "text": [
        "<matplotlib.figure.Figure at 0x3f51e10>"
       ]
      }
     ],
     "prompt_number": 55
    },
    {
     "cell_type": "code",
     "collapsed": false,
     "input": [
      "F=[]\n",
      "suma=0;\n",
      "gm=0;\n",
      "for i in range(1000):\n",
      "    suma=suma+g[i];\n",
      "gm=suma/1000\n",
      "print gm\n",
      "for i in range(1000):\n",
      "    F.append(1-g[i]/gm)"
     ],
     "language": "python",
     "metadata": {},
     "outputs": [
      {
       "output_type": "stream",
       "stream": "stdout",
       "text": [
        "-8.733466259\n"
       ]
      }
     ],
     "prompt_number": 65
    },
    {
     "cell_type": "code",
     "collapsed": false,
     "input": [
      "file = open(\"Efes.txt\", \"w\")\n",
      "for i in range(1000):\n",
      "    file.write(str(theta[i]))\n",
      "    file.write(\"\\t\")\n",
      "    file.write(str(F[i]))\n",
      "    file.write(\"\\n\")\n",
      "file.close()"
     ],
     "language": "python",
     "metadata": {},
     "outputs": [],
     "prompt_number": 70
    },
    {
     "cell_type": "code",
     "collapsed": false,
     "input": [
      "!cc cuartocuad.c -lm\n",
      "!./a.out"
     ],
     "language": "python",
     "metadata": {},
     "outputs": [
      {
       "output_type": "stream",
       "stream": "stdout",
       "text": [
        "Segmentation fault (core dumped)\r\n"
       ]
      }
     ],
     "prompt_number": 76
    },
    {
     "cell_type": "code",
     "collapsed": false,
     "input": [],
     "language": "python",
     "metadata": {},
     "outputs": []
    }
   ],
   "metadata": {}
  }
 ]
}